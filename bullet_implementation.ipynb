{
 "cells": [
  {
   "cell_type": "markdown",
   "metadata": {},
   "source": [
    "## Importing controller\n",
    "\n",
    "This cell imports the learnt controller $nncontrol.pt$\n"
   ]
  },
  {
   "cell_type": "code",
   "execution_count": 1,
   "metadata": {},
   "outputs": [
    {
     "data": {
      "text/plain": [
       "<All keys matched successfully>"
      ]
     },
     "execution_count": 1,
     "metadata": {},
     "output_type": "execute_result"
    }
   ],
   "source": [
    "import torch\n",
    "import torch.nn as nn\n",
    "import torch.optim as optim\n",
    "import numpy as np\n",
    "\n",
    "n = 3\n",
    "control_dim = 2\n",
    "\n",
    "input_dim = n+1\n",
    "\n",
    "\n",
    "class NNControl(nn.Module):\n",
    "    def __init__(self):\n",
    "        super().__init__()\n",
    "        self.fc1 = nn.Linear(input_dim, 150,bias=True)  # 2 input features, 5 hidden units\n",
    "        self.fc2 = nn.Linear(150,300,bias=True)\n",
    "#         self.fc3 = nn.Linear(300,200,bias=True)\n",
    "        self.fc3 = nn.Linear(300,20,bias=True)\n",
    "        self.relu = nn.ReLU()\n",
    "\n",
    "        self.out = nn.Linear(20, control_dim)  # 5 hidden units, 1 output\n",
    "\n",
    "\n",
    "\n",
    "    def forward(self, x):\n",
    "        x = self.fc1(x)\n",
    "        x = self.relu(x)\n",
    "\n",
    "        x = self.fc2(x)\n",
    "        x = self.relu(x)\n",
    "\n",
    "        x = self.fc3(x)\n",
    "        x = self.relu(x)    \n",
    "        \n",
    "#         x = self.fc4(x)\n",
    "#         x = self.relu(x) \n",
    "\n",
    "        x = self.out(x)\n",
    "        \n",
    "        \n",
    "\n",
    "        return x\n",
    "\n",
    "\n",
    "\n",
    "nncontrol = NNControl()\n",
    "\n",
    "nncontrol.load_state_dict(torch.load('nncontrol.pt'))\n",
    "\n",
    "\n"
   ]
  },
  {
   "cell_type": "markdown",
   "metadata": {},
   "source": [
    "## Converts unicycle control input to differential drive input"
   ]
  },
  {
   "cell_type": "code",
   "execution_count": 2,
   "metadata": {},
   "outputs": [],
   "source": [
    "def unicycle2diffdrive(v,w,R,L):\n",
    "    Vr = (v + L*w/2)/R \n",
    "    Vl = (v - L*w/2)/R\n",
    "    \n",
    "    speeds = [Vr,Vl]\n",
    "    return speeds\n"
   ]
  },
  {
   "cell_type": "markdown",
   "metadata": {},
   "source": [
    "## PyBullet environment with one Husky robot"
   ]
  },
  {
   "cell_type": "code",
   "execution_count": 4,
   "metadata": {},
   "outputs": [
    {
     "name": "stdout",
     "output_type": "stream",
     "text": [
      "C:\\Users\\dagadginmath\\AppData\\Local\\anaconda3\\envs\\pytorch_env\\Lib\\site-packages\\pybullet_data\n",
      "15\n"
     ]
    }
   ],
   "source": [
    "import pybullet as p\n",
    "import time\n",
    "import pybullet_data\n",
    "physicsClient = p.connect(p.GUI)#or p.DIRECT for non-graphical version\n",
    "p.configureDebugVisualizer(p.COV_ENABLE_GUI,0)\n",
    "p.configureDebugVisualizer(lightPosition=[10,-100,250])\n",
    "# print(p.getDebugVisualizerCamera(physicsClient))\n",
    "p.resetDebugVisualizerCamera(cameraDistance=5,cameraYaw=150,cameraPitch=-30,cameraTargetPosition=[5,2,2])\n",
    "\n",
    "print(pybullet_data.getDataPath())\n",
    "\n",
    "p.setAdditionalSearchPath(pybullet_data.getDataPath()) #optionally\n",
    "p.setGravity(0,0,-9.8)\n",
    "planeId = p.loadURDF(\"plane.urdf\")\n",
    "startPos = [-4,-4,0.45]\n",
    "startOrientation = p.getQuaternionFromEuler([0,0,2])\n",
    "time.sleep(2.)\n",
    "\n",
    "# boxId = p.loadURDF(\"r2d2.urdf\",startPos, startOrientation)\n",
    "cube = p.loadURDF(\"blk_cube.urdf\",[0,0,0.5],startOrientation)\n",
    "time.sleep(1.)\n",
    "# boxId = p.loadURDF(\"husky/husky.urdf\",startPos, startOrientation)\n",
    "\n",
    "boxId = p.loadURDF(\"r2d2.urdf\",startPos, startOrientation)\n",
    "\n",
    "time.sleep(1.)\n",
    "\n",
    "# boxId = p.loadURDF(\"biped/biped2d_pybullet.urdf\",startPos, startOrientation)\n",
    "\n",
    "# boxId = p.loadURDF(\"racecar/racecar_differential.urdf\",startPos, startOrientation)\n",
    "\n",
    "#set the center of mass frame (loadURDF sets base link frame) startPos/Ornp.resetBasePositionAndOrientation(boxId, startPos, startOrientation)\n",
    "print(p.getNumJoints(boxId))\n",
    "# for i in range(10):\n",
    "#     print(p.getJointInfo(boxId, jointIndex=i))\n",
    "#     print(\"\")\n",
    "\n",
    "# time.sleep(1)\n",
    "# p.setRealTimeSimulation(0)\n",
    "logger = p.startStateLogging(p.STATE_LOGGING_VIDEO_MP4,fileName = 'r2d2_video.mp4')\n",
    "\n",
    "maxForce = 500\n",
    "x = 10\n",
    "\n",
    "# time.sleep(5)\n",
    "left = 0\n",
    "right = 0\n",
    "for i in range(3000):\n",
    "    cubePos, cubeOrn = p.getBasePositionAndOrientation(boxId)\n",
    "    orientation = p.getEulerFromQuaternion(cubeOrn)\n",
    "    pos = torch.tensor([cubePos[0],cubePos[1],orientation[2],i/50])\n",
    "    \n",
    "#     print(cubePos[2])\n",
    "    \n",
    "    unispeeds = nncontrol(pos) * 3.5\n",
    "       \n",
    "\n",
    "    \n",
    "    #### HUSKY ####\n",
    "#     right,left = unicycle2diffdrive(unispeeds[0],unispeeds[1],1.1,0.71)    \n",
    "#     p.setJointMotorControl2(boxId,2,controlMode=p.VELOCITY_CONTROL,targetVelocity = left,force=maxForce)\n",
    "#     p.setJointMotorControl2(boxId,3,controlMode=p.VELOCITY_CONTROL,targetVelocity = right,force=maxForce)\n",
    "    \n",
    "#     p.setJointMotorControl2(boxId,4,controlMode=p.VELOCITY_CONTROL,targetVelocity = left,force=maxForce)\n",
    "#     p.setJointMotorControl2(boxId,5,controlMode=p.VELOCITY_CONTROL,targetVelocity = right,force=maxForce)    \n",
    "        \n",
    "    #### R2D2 ####\n",
    "    right,left = unicycle2diffdrive(unispeeds[0],unispeeds[1],3.7,0.31)    \n",
    "    p.setJointMotorControl2(boxId,2,controlMode=p.VELOCITY_CONTROL,targetVelocity = right,force=maxForce)\n",
    "    p.setJointMotorControl2(boxId,3,controlMode=p.VELOCITY_CONTROL,targetVelocity = right,force=maxForce)\n",
    "    \n",
    "    p.setJointMotorControl2(boxId,6,controlMode=p.VELOCITY_CONTROL,targetVelocity = left,force=maxForce)\n",
    "    p.setJointMotorControl2(boxId,7,controlMode=p.VELOCITY_CONTROL,targetVelocity = left,force=maxForce)\n",
    "    \n",
    "    p.stepSimulation()\n",
    "    time.sleep(1./100.)\n",
    "\n",
    "\n",
    "p.stopStateLogging(logger)    \n",
    "p.disconnect()"
   ]
  },
  {
   "cell_type": "markdown",
   "metadata": {},
   "source": [
    "## Pybullet environment with four Husky robots"
   ]
  },
  {
   "cell_type": "code",
   "execution_count": 5,
   "metadata": {},
   "outputs": [],
   "source": [
    "# import pybullet as p\n",
    "# import time\n",
    "# import pybullet_data\n",
    "# physicsClient = p.connect(p.GUI)#or p.DIRECT for non-graphical version\n",
    "# p.configureDebugVisualizer(p.COV_ENABLE_GUI,0)\n",
    "# p.configureDebugVisualizer(lightPosition=[10,-100,250])\n",
    "# # print(p.getDebugVisualizerCamera(physicsClient))\n",
    "# p.resetDebugVisualizerCamera(cameraDistance=15,cameraYaw=60,cameraPitch=-30,cameraTargetPosition=[10,2,2])\n",
    "\n",
    "# # print(pybullet_data.getDataPath())\n",
    "\n",
    "# p.setAdditionalSearchPath(pybullet_data.getDataPath()) #optionally\n",
    "# p.setGravity(0,0,-9.8)\n",
    "# planeId = p.loadURDF(\"plane.urdf\")\n",
    "# # startPos = [6,6,0.005]\n",
    "# startOrientation = p.getQuaternionFromEuler([0,0,2])\n",
    "# time.sleep(2.)\n",
    "\n",
    "# cube = p.loadURDF(\"blk_cube.urdf\",[0,0,0.5],startOrientation)\n",
    "# time.sleep(1.)\n",
    "\n",
    "# num_agents = 4\n",
    "# startPos = torch.normal(0,7,(num_agents,3)) * torch.tensor([1,1,0.000]) + torch.tensor([-2,2,0.005])\n",
    "# boxId = [p.loadURDF(\"husky/husky.urdf\",startPos[i,:], startOrientation) for i in range(num_agents)]\n",
    "\n",
    "# time.sleep(1.)\n",
    "\n",
    "# logger = p.startStateLogging(p.STATE_LOGGING_VIDEO_MP4,fileName = 'husky_video_multiple.mp4')\n",
    "\n",
    "# maxForce = 50\n",
    "\n",
    "# for i in range(3000):\n",
    "#     for k in range(num_agents):\n",
    "#         cubePos, cubeOrn = p.getBasePositionAndOrientation(boxId[k])\n",
    "#         orientation = p.getEulerFromQuaternion(cubeOrn)\n",
    "#         pos = torch.tensor([cubePos[0],cubePos[1],orientation[2],i/300])\n",
    "    \n",
    "    \n",
    "#         unispeeds = nncontrol(pos) * 1\n",
    "       \n",
    "#         right,left = unicycle2diffdrive(unispeeds[0],unispeeds[1],1.1,0.71)\n",
    "\n",
    "#         p.setJointMotorControl2(boxId[k],2,controlMode=p.VELOCITY_CONTROL,targetVelocity = left,force=maxForce)\n",
    "#         p.setJointMotorControl2(boxId[k],3,controlMode=p.VELOCITY_CONTROL,targetVelocity = right,force=maxForce)\n",
    "\n",
    "#         p.setJointMotorControl2(boxId[k],4,controlMode=p.VELOCITY_CONTROL,targetVelocity = left,force=maxForce)\n",
    "#         p.setJointMotorControl2(boxId[k],5,controlMode=p.VELOCITY_CONTROL,targetVelocity = right,force=maxForce)    \n",
    "       \n",
    "#     p.stepSimulation()\n",
    "#     time.sleep(1./100.)\n",
    "\n",
    "\n",
    "# p.stopStateLogging(logger)    \n",
    "# p.disconnect()"
   ]
  }
 ],
 "metadata": {
  "kernelspec": {
   "display_name": "Python 3",
   "language": "python",
   "name": "python3"
  },
  "language_info": {
   "codemirror_mode": {
    "name": "ipython",
    "version": 3
   },
   "file_extension": ".py",
   "mimetype": "text/x-python",
   "name": "python",
   "nbconvert_exporter": "python",
   "pygments_lexer": "ipython3",
   "version": "3.8.5"
  }
 },
 "nbformat": 4,
 "nbformat_minor": 5
}
